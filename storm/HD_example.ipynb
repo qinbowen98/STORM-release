{
 "cells": [
  {
   "cell_type": "code",
   "execution_count": 6,
   "metadata": {},
   "outputs": [],
   "source": [
    "from storm.pp import white_balance_using_white_point,exc_tissue\n",
    "from skimage import io\n",
    "img = io.imread('../hm0477/spatial/tissue_hires_image.png')\n",
    "img=img[:,:,:3]\n",
    "io.imsave('../hm0477/spatial/tissue_hires_image.png',img)\n"
   ]
  },
  {
   "cell_type": "code",
   "execution_count": 5,
   "metadata": {},
   "outputs": [
    {
     "data": {
      "text/plain": [
       "(1515, 1517, 3)"
      ]
     },
     "execution_count": 5,
     "metadata": {},
     "output_type": "execute_result"
    }
   ],
   "source": [
    "img[:,:,:3].shape"
   ]
  }
 ],
 "metadata": {
  "kernelspec": {
   "display_name": "djt",
   "language": "python",
   "name": "python3"
  },
  "language_info": {
   "codemirror_mode": {
    "name": "ipython",
    "version": 3
   },
   "file_extension": ".py",
   "mimetype": "text/x-python",
   "name": "python",
   "nbconvert_exporter": "python",
   "pygments_lexer": "ipython3",
   "version": "3.9.18"
  }
 },
 "nbformat": 4,
 "nbformat_minor": 2
}
